{
 "cells": [
  {
   "cell_type": "code",
   "execution_count": 1,
   "id": "264817df",
   "metadata": {},
   "outputs": [
    {
     "name": "stdout",
     "output_type": "stream",
     "text": [
      " Loaded: 6,362,620 rows × 11 columns\n"
     ]
    },
    {
     "data": {
      "text/html": [
       "<div>\n",
       "<style scoped>\n",
       "    .dataframe tbody tr th:only-of-type {\n",
       "        vertical-align: middle;\n",
       "    }\n",
       "\n",
       "    .dataframe tbody tr th {\n",
       "        vertical-align: top;\n",
       "    }\n",
       "\n",
       "    .dataframe thead th {\n",
       "        text-align: right;\n",
       "    }\n",
       "</style>\n",
       "<table border=\"1\" class=\"dataframe\">\n",
       "  <thead>\n",
       "    <tr style=\"text-align: right;\">\n",
       "      <th></th>\n",
       "      <th>step</th>\n",
       "      <th>type</th>\n",
       "      <th>amount</th>\n",
       "      <th>nameOrig</th>\n",
       "      <th>oldbalanceOrg</th>\n",
       "      <th>newbalanceOrig</th>\n",
       "      <th>nameDest</th>\n",
       "      <th>oldbalanceDest</th>\n",
       "      <th>newbalanceDest</th>\n",
       "      <th>isFraud</th>\n",
       "      <th>isFlaggedFraud</th>\n",
       "    </tr>\n",
       "  </thead>\n",
       "  <tbody>\n",
       "    <tr>\n",
       "      <th>0</th>\n",
       "      <td>1</td>\n",
       "      <td>PAYMENT</td>\n",
       "      <td>9839.64</td>\n",
       "      <td>C1231006815</td>\n",
       "      <td>170136.0</td>\n",
       "      <td>160296.36</td>\n",
       "      <td>M1979787155</td>\n",
       "      <td>0.0</td>\n",
       "      <td>0.0</td>\n",
       "      <td>0</td>\n",
       "      <td>0</td>\n",
       "    </tr>\n",
       "    <tr>\n",
       "      <th>1</th>\n",
       "      <td>1</td>\n",
       "      <td>PAYMENT</td>\n",
       "      <td>1864.28</td>\n",
       "      <td>C1666544295</td>\n",
       "      <td>21249.0</td>\n",
       "      <td>19384.72</td>\n",
       "      <td>M2044282225</td>\n",
       "      <td>0.0</td>\n",
       "      <td>0.0</td>\n",
       "      <td>0</td>\n",
       "      <td>0</td>\n",
       "    </tr>\n",
       "    <tr>\n",
       "      <th>2</th>\n",
       "      <td>1</td>\n",
       "      <td>TRANSFER</td>\n",
       "      <td>181.00</td>\n",
       "      <td>C1305486145</td>\n",
       "      <td>181.0</td>\n",
       "      <td>0.00</td>\n",
       "      <td>C553264065</td>\n",
       "      <td>0.0</td>\n",
       "      <td>0.0</td>\n",
       "      <td>1</td>\n",
       "      <td>0</td>\n",
       "    </tr>\n",
       "    <tr>\n",
       "      <th>3</th>\n",
       "      <td>1</td>\n",
       "      <td>CASH_OUT</td>\n",
       "      <td>181.00</td>\n",
       "      <td>C840083671</td>\n",
       "      <td>181.0</td>\n",
       "      <td>0.00</td>\n",
       "      <td>C38997010</td>\n",
       "      <td>21182.0</td>\n",
       "      <td>0.0</td>\n",
       "      <td>1</td>\n",
       "      <td>0</td>\n",
       "    </tr>\n",
       "    <tr>\n",
       "      <th>4</th>\n",
       "      <td>1</td>\n",
       "      <td>PAYMENT</td>\n",
       "      <td>11668.14</td>\n",
       "      <td>C2048537720</td>\n",
       "      <td>41554.0</td>\n",
       "      <td>29885.86</td>\n",
       "      <td>M1230701703</td>\n",
       "      <td>0.0</td>\n",
       "      <td>0.0</td>\n",
       "      <td>0</td>\n",
       "      <td>0</td>\n",
       "    </tr>\n",
       "  </tbody>\n",
       "</table>\n",
       "</div>"
      ],
      "text/plain": [
       "   step      type    amount     nameOrig  oldbalanceOrg  newbalanceOrig  \\\n",
       "0     1   PAYMENT   9839.64  C1231006815       170136.0       160296.36   \n",
       "1     1   PAYMENT   1864.28  C1666544295        21249.0        19384.72   \n",
       "2     1  TRANSFER    181.00  C1305486145          181.0            0.00   \n",
       "3     1  CASH_OUT    181.00   C840083671          181.0            0.00   \n",
       "4     1   PAYMENT  11668.14  C2048537720        41554.0        29885.86   \n",
       "\n",
       "      nameDest  oldbalanceDest  newbalanceDest  isFraud  isFlaggedFraud  \n",
       "0  M1979787155             0.0             0.0        0               0  \n",
       "1  M2044282225             0.0             0.0        0               0  \n",
       "2   C553264065             0.0             0.0        1               0  \n",
       "3    C38997010         21182.0             0.0        1               0  \n",
       "4  M1230701703             0.0             0.0        0               0  "
      ]
     },
     "execution_count": 1,
     "metadata": {},
     "output_type": "execute_result"
    }
   ],
   "source": [
    "#  T+0 min: Load the fraud dataset using pandas\n",
    "\n",
    "import pandas as pd\n",
    "\n",
    "# Load the dataset — make sure the file is in the same folder as this notebook\n",
    "df = pd.read_csv(\"Fraud.csv\")  # or \"Fraud-1.csv\" if that's your filename\n",
    "\n",
    "# Print shape to confirm\n",
    "print(f\" Loaded: {df.shape[0]:,} rows × {df.shape[1]} columns\")\n",
    "\n",
    "# Display top 5 rows\n",
    "df.head()\n"
   ]
  },
  {
   "cell_type": "code",
   "execution_count": 2,
   "id": "b60c422b",
   "metadata": {},
   "outputs": [
    {
     "name": "stdout",
     "output_type": "stream",
     "text": [
      "['step', 'type', 'amount', 'nameOrig', 'oldbalanceOrg', 'newbalanceOrig', 'nameDest', 'oldbalanceDest', 'newbalanceDest', 'isFraud', 'isFlaggedFraud']\n"
     ]
    }
   ],
   "source": [
    "# T+1 min: Check column headers\n",
    "print(df.columns.tolist())\n"
   ]
  },
  {
   "cell_type": "code",
   "execution_count": 3,
   "id": "7cdc7f3a",
   "metadata": {},
   "outputs": [
    {
     "name": "stdout",
     "output_type": "stream",
     "text": [
      " Dataset contains 6,362,620 rows and 11 columns.\n",
      "\n",
      " Column Info:\n",
      "<class 'pandas.core.frame.DataFrame'>\n",
      "RangeIndex: 6362620 entries, 0 to 6362619\n",
      "Data columns (total 11 columns):\n",
      " #   Column          Dtype  \n",
      "---  ------          -----  \n",
      " 0   step            int64  \n",
      " 1   type            object \n",
      " 2   amount          float64\n",
      " 3   nameOrig        object \n",
      " 4   oldbalanceOrg   float64\n",
      " 5   newbalanceOrig  float64\n",
      " 6   nameDest        object \n",
      " 7   oldbalanceDest  float64\n",
      " 8   newbalanceDest  float64\n",
      " 9   isFraud         int64  \n",
      " 10  isFlaggedFraud  int64  \n",
      "dtypes: float64(5), int64(3), object(3)\n",
      "memory usage: 534.0+ MB\n",
      "\n",
      " Data Types:\n",
      "step                int64\n",
      "type               object\n",
      "amount            float64\n",
      "nameOrig           object\n",
      "oldbalanceOrg     float64\n",
      "newbalanceOrig    float64\n",
      "nameDest           object\n",
      "oldbalanceDest    float64\n",
      "newbalanceDest    float64\n",
      "isFraud             int64\n",
      "isFlaggedFraud      int64\n",
      "dtype: object\n",
      "\n",
      " Candidate columns to remove later (not useful for modeling):\n",
      "- nameOrig (sender ID)\n",
      "- nameDest (receiver ID)\n"
     ]
    }
   ],
   "source": [
    "# T+5 min: Check dataset shape, types, and structure\n",
    "\n",
    "# Shape\n",
    "print(f\" Dataset contains {df.shape[0]:,} rows and {df.shape[1]} columns.\")\n",
    "\n",
    "# Info\n",
    "print(\"\\n Column Info:\")\n",
    "df.info()\n",
    "\n",
    "# Data types\n",
    "print(\"\\n Data Types:\")\n",
    "print(df.dtypes)\n",
    "\n",
    "# Potential ID columns (for future removal)\n",
    "print(\"\\n Candidate columns to remove later (not useful for modeling):\")\n",
    "print(\"- nameOrig (sender ID)\")\n",
    "print(\"- nameDest (receiver ID)\")\n"
   ]
  },
  {
   "cell_type": "markdown",
   "id": "e9d90d25",
   "metadata": {},
   "source": [
    "Step 2.1: Check for Missing Values\n",
    "We will inspect the dataset for any null (missing) values using df.isnull().sum().\n",
    "No rows or columns will be removed at this stage — this is purely diagnostic."
   ]
  },
  {
   "cell_type": "code",
   "execution_count": 4,
   "id": "2a218df8",
   "metadata": {},
   "outputs": [
    {
     "name": "stdout",
     "output_type": "stream",
     "text": [
      " Missing Values Check:\n",
      " No missing values found!\n"
     ]
    }
   ],
   "source": [
    "#  T+7 min: Check for missing values only (no data removed)\n",
    "\n",
    "missing_values = df.isnull().sum()\n",
    "\n",
    "print(\" Missing Values Check:\")\n",
    "print(missing_values[missing_values > 0] if missing_values.sum() > 0 else \" No missing values found!\")\n"
   ]
  },
  {
   "cell_type": "markdown",
   "id": "c7542f7d",
   "metadata": {},
   "source": [
    "Step 2.2: Outlier Detection in amount\n",
    "We'll use a boxplot to visualize extreme values and the Interquartile Range (IQR) method to count them.\n",
    "This helps identify unusually large transactions — a key signal in fraud detection.\n",
    "We won’t drop or modify any data in this step.\n"
   ]
  },
  {
   "cell_type": "code",
   "execution_count": 5,
   "id": "64f2e8ab",
   "metadata": {},
   "outputs": [
    {
     "data": {
      "image/png": "[encoded data removed]",
      "text/plain": [
       "<Figure size 1000x150 with 1 Axes>"
      ]
     },
     "metadata": {},
     "output_type": "display_data"
    },
    {
     "name": "stdout",
     "output_type": "stream",
     "text": [
      " Number of outliers in 'amount': 338,078\n"
     ]
    }
   ],
   "source": [
    "# T+10 min: Outlier detection using boxplot and IQR (no data removed)\n",
    "\n",
    "import matplotlib.pyplot as plt\n",
    "import seaborn as sns\n",
    "\n",
    "# Boxplot to visualize outliers\n",
    "plt.figure(figsize=(10, 1.5))\n",
    "sns.boxplot(x=df['amount'])\n",
    "plt.title('Boxplot of Transaction Amounts')\n",
    "plt.xlabel('Transaction Amount')\n",
    "plt.show()\n",
    "\n",
    "# IQR Method to count outliers\n",
    "Q1 = df['amount'].quantile(0.25)\n",
    "Q3 = df['amount'].quantile(0.75)\n",
    "IQR = Q3 - Q1\n",
    "\n",
    "lower_bound = Q1 - 1.5 * IQR\n",
    "upper_bound = Q3 + 1.5 * IQR\n",
    "\n",
    "# Count of outliers\n",
    "outliers = df[(df['amount'] < lower_bound) | (df['amount'] > upper_bound)]\n",
    "print(f\" Number of outliers in 'amount': {outliers.shape[0]:,}\")\n"
   ]
  },
  {
   "cell_type": "code",
   "execution_count": 6,
   "id": "3db0cfbb",
   "metadata": {},
   "outputs": [
    {
     "name": "stdout",
     "output_type": "stream",
     "text": [
      "Outlier percentage: 5.31%\n"
     ]
    }
   ],
   "source": [
    "print(f\"Outlier percentage: {outliers.shape[0] / df.shape[0] * 100:.2f}%\")"
   ]
  },
  {
   "cell_type": "code",
   "execution_count": 7,
   "id": "5c9559e7",
   "metadata": {},
   "outputs": [
    {
     "name": "stdout",
     "output_type": "stream",
     "text": [
      " Class Counts:\n",
      "isFraud\n",
      "0    6354407\n",
      "1       8213\n",
      "Name: count, dtype: int64\n",
      "\n",
      " Class Percentages:\n",
      "isFraud\n",
      "0    99.8709\n",
      "1     0.1291\n",
      "Name: count, dtype: float64\n",
      "\n",
      " No rows or columns removed — this is a diagnostic check only.\n"
     ]
    }
   ],
   "source": [
    "#  T+12 min: Analyze target variable imbalance without modifying data\n",
    "\n",
    "# Value counts\n",
    "fraud_counts = df['isFraud'].value_counts().sort_index()\n",
    "\n",
    "# Percentage calculation\n",
    "fraud_percent = (fraud_counts / df.shape[0]) * 100\n",
    "\n",
    "# Print results\n",
    "print(\" Class Counts:\")\n",
    "print(fraud_counts)\n",
    "\n",
    "print(\"\\n Class Percentages:\")\n",
    "print(fraud_percent.round(4))\n",
    "\n",
    "# Clear message\n",
    "print(\"\\n No rows or columns removed — this is a diagnostic check only.\")\n"
   ]
  },
  {
   "cell_type": "code",
   "execution_count": 8,
   "id": "dc165289",
   "metadata": {},
   "outputs": [
    {
     "data": {
      "image/png": "[encoded data removed]",
      "text/plain": [
       "<Figure size 600x600 with 1 Axes>"
      ]
     },
     "metadata": {},
     "output_type": "display_data"
    }
   ],
   "source": [
    "import matplotlib.pyplot as plt\n",
    "\n",
    "plt.figure(figsize=(6, 6))\n",
    "labels = ['Not Fraud (0)', 'Fraud (1)']\n",
    "# Use a more distinct color palette\n",
    "colors = ['#4F8EF7', '#F7B32B']  # blue and gold\n",
    "plt.pie(fraud_counts, labels=labels, autopct='%1.4f%%', startangle=140, colors=colors, wedgeprops={'edgecolor': 'white', 'linewidth': 2})\n",
    "plt.title('Class Distribution: Fraud vs Non-Fraud')\n",
    "plt.show()"
   ]
  },
  {
   "cell_type": "markdown",
   "id": "dba2206d",
   "metadata": {},
   "source": []
  },
  {
   "cell_type": "code",
   "execution_count": 9,
   "id": "d68d961f",
   "metadata": {},
   "outputs": [
    {
     "name": "stdout",
     "output_type": "stream",
     "text": [
      " Transaction Type Frequencies:\n",
      "type\n",
      "CASH_OUT    2237500\n",
      "PAYMENT     2151495\n",
      "CASH_IN     1399284\n",
      "TRANSFER     532909\n",
      "DEBIT         41432\n",
      "Name: count, dtype: int64\n"
     ]
    }
   ],
   "source": [
    "#  T+15 min: Count transaction types in the 'type' column\n",
    "\n",
    "type_counts = df['type'].value_counts()\n",
    "print(\" Transaction Type Frequencies:\")\n",
    "print(type_counts)\n"
   ]
  },
  {
   "cell_type": "code",
   "execution_count": 10,
   "id": "974d8a1f",
   "metadata": {},
   "outputs": [
    {
     "name": "stderr",
     "output_type": "stream",
     "text": [
      "/tmp/ipykernel_27491/2056299780.py:5: FutureWarning: \n",
      "\n",
      "Passing `palette` without assigning `hue` is deprecated and will be removed in v0.14.0. Assign the `x` variable to `hue` and set `legend=False` for the same effect.\n",
      "\n",
      "  sns.barplot(x=type_counts.index, y=type_counts.values, palette=\"Set2\")\n"
     ]
    },
    {
     "data": {
      "image/png": "[encoded data removed]",
      "text/plain": [
       "<Figure size 800x400 with 1 Axes>"
      ]
     },
     "metadata": {},
     "output_type": "display_data"
    }
   ],
   "source": [
    "import seaborn as sns\n",
    "import matplotlib.pyplot as plt\n",
    "\n",
    "plt.figure(figsize=(8, 4))\n",
    "sns.barplot(x=type_counts.index, y=type_counts.values, palette=\"Set2\")\n",
    "plt.title(\"Transaction Type Frequency\")\n",
    "plt.ylabel(\"Count\")\n",
    "plt.xlabel(\"Transaction Type\")\n",
    "plt.xticks(rotation=45)\n",
    "plt.tight_layout()\n",
    "plt.show()\n"
   ]
  },
  {
   "cell_type": "markdown",
   "id": "b2a8c24d",
   "metadata": {},
   "source": [
    "Step 3.2: Which Transaction Types Are Most Fraud-Prone?\n",
    "We'll use groupby('type')['isFraud'].sum() to count the number of fraudulent transactions for each type.\n",
    "This shows where fraud is concentrated, e.g., TRANSFER or CASH_OUT."
   ]
  },
  {
   "cell_type": "code",
   "execution_count": 11,
   "id": "7e3aebec",
   "metadata": {},
   "outputs": [
    {
     "name": "stdout",
     "output_type": "stream",
     "text": [
      " Fraud Counts by Transaction Type:\n",
      "type\n",
      "CASH_OUT    4116\n",
      "TRANSFER    4097\n",
      "CASH_IN        0\n",
      "DEBIT          0\n",
      "PAYMENT        0\n",
      "Name: isFraud, dtype: int64\n"
     ]
    }
   ],
   "source": [
    "#  T+18 min: Count frauds by transaction type\n",
    "\n",
    "fraud_by_type = df.groupby('type')['isFraud'].sum().sort_values(ascending=False)\n",
    "print(\" Fraud Counts by Transaction Type:\")\n",
    "print(fraud_by_type)\n"
   ]
  },
  {
   "cell_type": "markdown",
   "id": "9907441d",
   "metadata": {},
   "source": [
    "Step 3.3: Correlation Heatmap\n",
    "We'll use df.corr() and seaborn.heatmap() to visualize correlations between numeric features.\n",
    "This helps us understand relationships and detect multicollinearity for later modeling."
   ]
  },
  {
   "cell_type": "markdown",
   "id": "d8cf1cc0",
   "metadata": {},
   "source": []
  },
  {
   "cell_type": "code",
   "execution_count": 12,
   "id": "bd27ba26",
   "metadata": {},
   "outputs": [
    {
     "ename": "",
     "evalue": "",
     "output_type": "error",
     "traceback": [
      "\u001b[1;31mThe Kernel crashed while executing code in the current cell or a previous cell. \n",
      "\u001b[1;31mPlease review the code in the cell(s) to identify a possible cause of the failure. \n",
      "\u001b[1;31mClick <a href='https://aka.ms/vscodeJupyterKernelCrash'>here</a> for more info. \n",
      "\u001b[1;31mView Jupyter <a href='command:jupyter.viewOutput'>log</a> for further details."
     ]
    }
   ],
   "source": [
    "import pandas as pd\n",
    "import seaborn as sns\n",
    "import matplotlib.pyplot as plt\n",
    "\n",
    "#  Step 1: Load dataset (if not already loaded)\n",
    "df = pd.read_csv(\"Fraud.csv\")\n",
    "\n",
    "#  Step 2: Select only numeric columns for correlation\n",
    "df_numeric = df.select_dtypes(include=['number'])\n",
    "\n",
    "# Step 3: Compute correlation matrix\n",
    "corr_matrix = df_numeric.corr()\n",
    "\n",
    "#  Step 4: Plot heatmap using seaborn\n",
    "plt.figure(figsize=(12, 8))\n",
    "sns.heatmap(corr_matrix, annot=True, fmt=\".2f\", cmap='coolwarm', linewidths=0.5, square=True)\n",
    "\n",
    "plt.title(\" Correlation Heatmap of Numeric Features\", fontsize=14)\n",
    "plt.xticks(rotation=45)\n",
    "plt.yticks(rotation=0)\n",
    "plt.tight_layout()\n",
    "plt.show()"
   ]
  },
  {
   "cell_type": "markdown",
   "id": "311669c8",
   "metadata": {},
   "source": [
    "Step 3.4: Business Logic — Suspicious Patterns\n",
    "We'll explore two key fraud signals:\n",
    "\n",
    "Are newbalanceOrig = 0 in most frauds?\n",
    "\n",
    "Is the destination balance increasing abnormally during frauds?\n",
    "This is purely observational — no data is changed."
   ]
  },
  {
   "cell_type": "code",
   "execution_count": null,
   "id": "9ead10b0",
   "metadata": {},
   "outputs": [
    {
     "name": "stdout",
     "output_type": "stream",
     "text": [
      " Fraud rows where newbalanceOrig = 0: 8053 out of 8213 (98.05%)\n",
      " Fraud rows with abnormal destination balance increase: 632 out of 8213 (7.70%)\n"
     ]
    }
   ],
   "source": [
    "# T+25 min: Filter only fraudulent transactions\n",
    "frauds = df[df['isFraud'] == 1]\n",
    "\n",
    "# 1. How many frauds have newbalanceOrig = 0?\n",
    "zero_newbalance_orig = (frauds['newbalanceOrig'] == 0).sum()\n",
    "print(f\" Fraud rows where newbalanceOrig = 0: {zero_newbalance_orig} out of {frauds.shape[0]} ({(zero_newbalance_orig / frauds.shape[0]) * 100:.2f}%)\")\n",
    "\n",
    "# 2. How many frauds where destination balance increases unusually?\n",
    "# Let's say \"unusual\" means: newbalanceDest > oldbalanceDest + amount (money appears out of nowhere)\n",
    "abnormal_increase = (frauds['newbalanceDest'] > (frauds['oldbalanceDest'] + frauds['amount'])).sum()\n",
    "print(f\" Fraud rows with abnormal destination balance increase: {abnormal_increase} out of {frauds.shape[0]} ({(abnormal_increase / frauds.shape[0]) * 100:.2f}%)\")\n"
   ]
  },
  {
   "cell_type": "code",
   "execution_count": null,
   "id": "bb1291a3",
   "metadata": {},
   "outputs": [
    {
     "name": "stdout",
     "output_type": "stream",
     "text": [
      " Dropped nameOrig and nameDest. New shape: (6362620, 9)\n"
     ]
    },
    {
     "data": {
      "text/html": [
       "<div>\n",
       "<style scoped>\n",
       "    .dataframe tbody tr th:only-of-type {\n",
       "        vertical-align: middle;\n",
       "    }\n",
       "\n",
       "    .dataframe tbody tr th {\n",
       "        vertical-align: top;\n",
       "    }\n",
       "\n",
       "    .dataframe thead th {\n",
       "        text-align: right;\n",
       "    }\n",
       "</style>\n",
       "<table border=\"1\" class=\"dataframe\">\n",
       "  <thead>\n",
       "    <tr style=\"text-align: right;\">\n",
       "      <th></th>\n",
       "      <th>step</th>\n",
       "      <th>type</th>\n",
       "      <th>amount</th>\n",
       "      <th>oldbalanceOrg</th>\n",
       "      <th>newbalanceOrig</th>\n",
       "      <th>oldbalanceDest</th>\n",
       "      <th>newbalanceDest</th>\n",
       "      <th>isFraud</th>\n",
       "      <th>isFlaggedFraud</th>\n",
       "    </tr>\n",
       "  </thead>\n",
       "  <tbody>\n",
       "    <tr>\n",
       "      <th>0</th>\n",
       "      <td>1</td>\n",
       "      <td>PAYMENT</td>\n",
       "      <td>9839.64</td>\n",
       "      <td>170136.0</td>\n",
       "      <td>160296.36</td>\n",
       "      <td>0.0</td>\n",
       "      <td>0.0</td>\n",
       "      <td>0</td>\n",
       "      <td>0</td>\n",
       "    </tr>\n",
       "    <tr>\n",
       "      <th>1</th>\n",
       "      <td>1</td>\n",
       "      <td>PAYMENT</td>\n",
       "      <td>1864.28</td>\n",
       "      <td>21249.0</td>\n",
       "      <td>19384.72</td>\n",
       "      <td>0.0</td>\n",
       "      <td>0.0</td>\n",
       "      <td>0</td>\n",
       "      <td>0</td>\n",
       "    </tr>\n",
       "    <tr>\n",
       "      <th>2</th>\n",
       "      <td>1</td>\n",
       "      <td>TRANSFER</td>\n",
       "      <td>181.00</td>\n",
       "      <td>181.0</td>\n",
       "      <td>0.00</td>\n",
       "      <td>0.0</td>\n",
       "      <td>0.0</td>\n",
       "      <td>1</td>\n",
       "      <td>0</td>\n",
       "    </tr>\n",
       "    <tr>\n",
       "      <th>3</th>\n",
       "      <td>1</td>\n",
       "      <td>CASH_OUT</td>\n",
       "      <td>181.00</td>\n",
       "      <td>181.0</td>\n",
       "      <td>0.00</td>\n",
       "      <td>21182.0</td>\n",
       "      <td>0.0</td>\n",
       "      <td>1</td>\n",
       "      <td>0</td>\n",
       "    </tr>\n",
       "    <tr>\n",
       "      <th>4</th>\n",
       "      <td>1</td>\n",
       "      <td>PAYMENT</td>\n",
       "      <td>11668.14</td>\n",
       "      <td>41554.0</td>\n",
       "      <td>29885.86</td>\n",
       "      <td>0.0</td>\n",
       "      <td>0.0</td>\n",
       "      <td>0</td>\n",
       "      <td>0</td>\n",
       "    </tr>\n",
       "  </tbody>\n",
       "</table>\n",
       "</div>"
      ],
      "text/plain": [
       "   step      type    amount  oldbalanceOrg  newbalanceOrig  oldbalanceDest  \\\n",
       "0     1   PAYMENT   9839.64       170136.0       160296.36             0.0   \n",
       "1     1   PAYMENT   1864.28        21249.0        19384.72             0.0   \n",
       "2     1  TRANSFER    181.00          181.0            0.00             0.0   \n",
       "3     1  CASH_OUT    181.00          181.0            0.00         21182.0   \n",
       "4     1   PAYMENT  11668.14        41554.0        29885.86             0.0   \n",
       "\n",
       "   newbalanceDest  isFraud  isFlaggedFraud  \n",
       "0             0.0        0               0  \n",
       "1             0.0        0               0  \n",
       "2             0.0        1               0  \n",
       "3             0.0        1               0  \n",
       "4             0.0        0               0  "
      ]
     },
     "execution_count": 4,
     "metadata": {},
     "output_type": "execute_result"
    }
   ],
   "source": [
    "#  T+30 min: Drop string ID columns\n",
    "\n",
    "df_cleaned = df.drop(columns=['nameOrig', 'nameDest'])\n",
    "\n",
    "print(f\" Dropped nameOrig and nameDest. New shape: {df_cleaned.shape}\")\n",
    "df_cleaned.head()\n"
   ]
  },
  {
   "cell_type": "code",
   "execution_count": null,
   "id": "6b07e0e3",
   "metadata": {},
   "outputs": [
    {
     "name": "stdout",
     "output_type": "stream",
     "text": [
      " One-hot encoded 'type'. New shape: (6362620, 12)\n"
     ]
    },
    {
     "data": {
      "text/html": [
       "<div>\n",
       "<style scoped>\n",
       "    .dataframe tbody tr th:only-of-type {\n",
       "        vertical-align: middle;\n",
       "    }\n",
       "\n",
       "    .dataframe tbody tr th {\n",
       "        vertical-align: top;\n",
       "    }\n",
       "\n",
       "    .dataframe thead th {\n",
       "        text-align: right;\n",
       "    }\n",
       "</style>\n",
       "<table border=\"1\" class=\"dataframe\">\n",
       "  <thead>\n",
       "    <tr style=\"text-align: right;\">\n",
       "      <th></th>\n",
       "      <th>step</th>\n",
       "      <th>amount</th>\n",
       "      <th>oldbalanceOrg</th>\n",
       "      <th>newbalanceOrig</th>\n",
       "      <th>oldbalanceDest</th>\n",
       "      <th>newbalanceDest</th>\n",
       "      <th>isFraud</th>\n",
       "      <th>isFlaggedFraud</th>\n",
       "      <th>type_CASH_OUT</th>\n",
       "      <th>type_DEBIT</th>\n",
       "      <th>type_PAYMENT</th>\n",
       "      <th>type_TRANSFER</th>\n",
       "    </tr>\n",
       "  </thead>\n",
       "  <tbody>\n",
       "    <tr>\n",
       "      <th>0</th>\n",
       "      <td>1</td>\n",
       "      <td>9839.64</td>\n",
       "      <td>170136.0</td>\n",
       "      <td>160296.36</td>\n",
       "      <td>0.0</td>\n",
       "      <td>0.0</td>\n",
       "      <td>0</td>\n",
       "      <td>0</td>\n",
       "      <td>False</td>\n",
       "      <td>False</td>\n",
       "      <td>True</td>\n",
       "      <td>False</td>\n",
       "    </tr>\n",
       "    <tr>\n",
       "      <th>1</th>\n",
       "      <td>1</td>\n",
       "      <td>1864.28</td>\n",
       "      <td>21249.0</td>\n",
       "      <td>19384.72</td>\n",
       "      <td>0.0</td>\n",
       "      <td>0.0</td>\n",
       "      <td>0</td>\n",
       "      <td>0</td>\n",
       "      <td>False</td>\n",
       "      <td>False</td>\n",
       "      <td>True</td>\n",
       "      <td>False</td>\n",
       "    </tr>\n",
       "    <tr>\n",
       "      <th>2</th>\n",
       "      <td>1</td>\n",
       "      <td>181.00</td>\n",
       "      <td>181.0</td>\n",
       "      <td>0.00</td>\n",
       "      <td>0.0</td>\n",
       "      <td>0.0</td>\n",
       "      <td>1</td>\n",
       "      <td>0</td>\n",
       "      <td>False</td>\n",
       "      <td>False</td>\n",
       "      <td>False</td>\n",
       "      <td>True</td>\n",
       "    </tr>\n",
       "    <tr>\n",
       "      <th>3</th>\n",
       "      <td>1</td>\n",
       "      <td>181.00</td>\n",
       "      <td>181.0</td>\n",
       "      <td>0.00</td>\n",
       "      <td>21182.0</td>\n",
       "      <td>0.0</td>\n",
       "      <td>1</td>\n",
       "      <td>0</td>\n",
       "      <td>True</td>\n",
       "      <td>False</td>\n",
       "      <td>False</td>\n",
       "      <td>False</td>\n",
       "    </tr>\n",
       "    <tr>\n",
       "      <th>4</th>\n",
       "      <td>1</td>\n",
       "      <td>11668.14</td>\n",
       "      <td>41554.0</td>\n",
       "      <td>29885.86</td>\n",
       "      <td>0.0</td>\n",
       "      <td>0.0</td>\n",
       "      <td>0</td>\n",
       "      <td>0</td>\n",
       "      <td>False</td>\n",
       "      <td>False</td>\n",
       "      <td>True</td>\n",
       "      <td>False</td>\n",
       "    </tr>\n",
       "  </tbody>\n",
       "</table>\n",
       "</div>"
      ],
      "text/plain": [
       "   step    amount  oldbalanceOrg  newbalanceOrig  oldbalanceDest  \\\n",
       "0     1   9839.64       170136.0       160296.36             0.0   \n",
       "1     1   1864.28        21249.0        19384.72             0.0   \n",
       "2     1    181.00          181.0            0.00             0.0   \n",
       "3     1    181.00          181.0            0.00         21182.0   \n",
       "4     1  11668.14        41554.0        29885.86             0.0   \n",
       "\n",
       "   newbalanceDest  isFraud  isFlaggedFraud  type_CASH_OUT  type_DEBIT  \\\n",
       "0             0.0        0               0          False       False   \n",
       "1             0.0        0               0          False       False   \n",
       "2             0.0        1               0          False       False   \n",
       "3             0.0        1               0           True       False   \n",
       "4             0.0        0               0          False       False   \n",
       "\n",
       "   type_PAYMENT  type_TRANSFER  \n",
       "0          True          False  \n",
       "1          True          False  \n",
       "2         False           True  \n",
       "3         False          False  \n",
       "4          True          False  "
      ]
     },
     "execution_count": 6,
     "metadata": {},
     "output_type": "execute_result"
    }
   ],
   "source": [
    "# T+32 min: One-hot encode the 'type' column\n",
    "\n",
    "# Create dummies for 'type'\n",
    "type_dummies = pd.get_dummies(df_cleaned['type'], prefix='type', drop_first=True)\n",
    "\n",
    "# Combine with original cleaned DataFrame\n",
    "df_cleaned = pd.concat([df_cleaned.drop(columns=['type']), type_dummies], axis=1)\n",
    "\n",
    "print(f\" One-hot encoded 'type'. New shape: {df_cleaned.shape}\")\n",
    "df_cleaned.head()"
   ]
  },
  {
   "cell_type": "markdown",
   "id": "443ae580",
   "metadata": {},
   "source": [
    "Step 4.3: Feature Selection\n",
    "We will now select the final set of input features for the model.\n",
    "These include:\n",
    "\n",
    "Transaction details (step, amount)\n",
    "\n",
    "Balances (origin & destination)\n",
    "\n",
    "Flag column (isFlaggedFraud)\n",
    "\n",
    "One-hot encoded transaction types (type_*)\n",
    "\n",
    "These were selected based on:\n",
    "\n",
    "Business logic\n",
    "\n",
    "Exploratory data analysis\n",
    "\n",
    "Model interpretability"
   ]
  },
  {
   "cell_type": "code",
   "execution_count": 2,
   "id": "f1e96987",
   "metadata": {},
   "outputs": [
    {
     "name": "stdout",
     "output_type": "stream",
     "text": [
      " X shape: (6362620, 9), y shape: (6362620,)\n"
     ]
    },
    {
     "ename": "",
     "evalue": "",
     "output_type": "error",
     "traceback": [
      "\u001b[1;31mThe Kernel crashed while executing code in the current cell or a previous cell. \n",
      "\u001b[1;31mPlease review the code in the cell(s) to identify a possible cause of the failure. \n",
      "\u001b[1;31mClick <a href='https://aka.ms/vscodeJupyterKernelCrash'>here</a> for more info. \n",
      "\u001b[1;31mView Jupyter <a href='command:jupyter.viewOutput'>log</a> for further details."
     ]
    }
   ],
   "source": [
    "import pandas as pd\n",
    "from sklearn.preprocessing import StandardScaler\n",
    "\n",
    "#  Step 1: Replace this with your actual filename\n",
    "df = pd.read_csv(\"Fraud.csv\")  # or use \"Fraud-1.csv\" ONLY if that file exists\n",
    "\n",
    "# Step 2: Drop ID columns\n",
    "df_cleaned = df.drop(columns=['nameOrig', 'nameDest'])\n",
    "\n",
    "# Step 3: One-hot encode the 'type' column\n",
    "df_cleaned = pd.get_dummies(df_cleaned, columns=['type'], drop_first=True)\n",
    "\n",
    "# Step 4: Select final feature columns\n",
    "selected_features = [\n",
    "    'step', 'amount',\n",
    "    'oldbalanceOrg', 'newbalanceOrig',\n",
    "    'oldbalanceDest', 'newbalanceDest',\n",
    "    'isFlaggedFraud',\n",
    "    'type_CASH_OUT', 'type_TRANSFER'\n",
    "]\n",
    "\n",
    "#  Step 5: Create features and target\n",
    "X = df_cleaned[selected_features]\n",
    "y = df_cleaned['isFraud']\n",
    "\n",
    "print(f\" X shape: {X.shape}, y shape: {y.shape}\")\n",
    "\n",
    "#  Step 6: Apply scaling ONLY IF needed\n",
    "scaler = StandardScaler()\n",
    "X_scaled = scaler.fit_transform(X)\n",
    "\n",
    "print(\" Feature scaling complete. X_scaled is ready.\")\n"
   ]
  },
  {
   "cell_type": "code",
   "execution_count": 2,
   "id": "35886012",
   "metadata": {},
   "outputs": [
    {
     "name": "stdout",
     "output_type": "stream",
     "text": [
      " Sampled data shape: (100000, 9)\n"
     ]
    }
   ],
   "source": [
    "import pandas as pd\n",
    "\n",
    "#  Step 1: Load dataset (adjust name if needed)\n",
    "df = pd.read_csv(\"Fraud.csv\")  \n",
    "#  Step 2: Drop string ID columns\n",
    "df_cleaned = df.drop(columns=['nameOrig', 'nameDest'])\n",
    "\n",
    "# Step 3: One-hot encode 'type'\n",
    "df_cleaned = pd.get_dummies(df_cleaned, columns=['type'], drop_first=True)\n",
    "\n",
    "#  Step 4: Sample 100,000 rows for fast model training\n",
    "df_sample = df_cleaned.sample(n=100000, random_state=42)\n",
    "\n",
    "#  Step 5: Define X and y on sample\n",
    "X = df_sample[[\n",
    "    'step', 'amount',\n",
    "    'oldbalanceOrg', 'newbalanceOrig',\n",
    "    'oldbalanceDest', 'newbalanceDest',\n",
    "    'isFlaggedFraud',\n",
    "    'type_CASH_OUT', 'type_TRANSFER'\n",
    "]]\n",
    "y = df_sample['isFraud']\n",
    "\n",
    "print(f\" Sampled data shape: {X.shape}\")\n"
   ]
  },
  {
   "cell_type": "code",
   "execution_count": 3,
   "id": "549b3871",
   "metadata": {},
   "outputs": [
    {
     "name": "stdout",
     "output_type": "stream",
     "text": [
      "\n",
      " Confusion Matrix:\n",
      " [[19972     0]\n",
      " [    9    19]]\n",
      "\n",
      " Classification Report:\n",
      "               precision    recall  f1-score   support\n",
      "\n",
      "           0       1.00      1.00      1.00     19972\n",
      "           1       1.00      0.68      0.81        28\n",
      "\n",
      "    accuracy                           1.00     20000\n",
      "   macro avg       1.00      0.84      0.90     20000\n",
      "weighted avg       1.00      1.00      1.00     20000\n",
      "\n",
      " Accuracy: 0.9996\n"
     ]
    }
   ],
   "source": [
    "from sklearn.ensemble import RandomForestClassifier\n",
    "from sklearn.model_selection import train_test_split\n",
    "from sklearn.metrics import classification_report, confusion_matrix, accuracy_score\n",
    "\n",
    "# Train/test split\n",
    "X_train, X_test, y_train, y_test = train_test_split(\n",
    "    X, y, test_size=0.2, stratify=y, random_state=42\n",
    ")\n",
    "\n",
    "# Random Forest Model (with class imbalance handled)\n",
    "rf_model = RandomForestClassifier(n_estimators=100, class_weight='balanced', random_state=42)\n",
    "rf_model.fit(X_train, y_train)\n",
    "\n",
    "# Predict and evaluate\n",
    "y_pred = rf_model.predict(X_test)\n",
    "\n",
    "print(\"\\n Confusion Matrix:\\n\", confusion_matrix(y_test, y_pred))\n",
    "print(\"\\n Classification Report:\\n\", classification_report(y_test, y_pred))\n",
    "print(f\" Accuracy: {accuracy_score(y_test, y_pred):.4f}\")\n"
   ]
  },
  {
   "cell_type": "code",
   "execution_count": 6,
   "id": "03828c77",
   "metadata": {},
   "outputs": [
    {
     "name": "stdout",
     "output_type": "stream",
     "text": [
      " Training set size: 70000 rows\n",
      " Test set size    : 30000 rows\n"
     ]
    }
   ],
   "source": [
    "from sklearn.model_selection import train_test_split\n",
    "\n",
    "# 70/30 train-test split, stratified on fraud class\n",
    "X_train, X_test, y_train, y_test = train_test_split(\n",
    "    X, y,\n",
    "    test_size=0.3,\n",
    "    stratify=y,\n",
    "    random_state=42\n",
    ")\n",
    "\n",
    "print(f\" Training set size: {X_train.shape[0]} rows\")\n",
    "print(f\" Test set size    : {X_test.shape[0]} rows\")"
   ]
  },
  {
   "cell_type": "code",
   "execution_count": 12,
   "id": "d1c1fdf9",
   "metadata": {},
   "outputs": [
    {
     "name": "stdout",
     "output_type": "stream",
     "text": [
      " Balanced training set created:\n",
      "1    99\n",
      "0    99\n",
      "Name: count, dtype: int64\n"
     ]
    }
   ],
   "source": [
    "# Separate fraud and non-fraud cases\n",
    "fraud_df = X_train[y_train == 1]\n",
    "non_fraud_df = X_train[y_train == 0]\n",
    "\n",
    "# Undersample non-fraud to match fraud count\n",
    "non_fraud_sample = non_fraud_df.sample(n=len(fraud_df), random_state=42)\n",
    "\n",
    "# Combine for balanced training data\n",
    "X_train_balanced = pd.concat([fraud_df, non_fraud_sample])\n",
    "y_train_balanced = pd.Series([1]*len(fraud_df) + [0]*len(fraud_df))\n",
    "\n",
    "print(\" Balanced training set created:\")\n",
    "print(y_train_balanced.value_counts())\n"
   ]
  },
  {
   "cell_type": "code",
   "execution_count": 13,
   "id": "972242b6",
   "metadata": {},
   "outputs": [
    {
     "name": "stdout",
     "output_type": "stream",
     "text": [
      " Confusion Matrix:\n",
      " [[28848  1110]\n",
      " [    1    41]]\n",
      "\n",
      " Classification Report:\n",
      "               precision    recall  f1-score   support\n",
      "\n",
      "           0       1.00      0.96      0.98     29958\n",
      "           1       0.04      0.98      0.07        42\n",
      "\n",
      "    accuracy                           0.96     30000\n",
      "   macro avg       0.52      0.97      0.52     30000\n",
      "weighted avg       1.00      0.96      0.98     30000\n",
      "\n",
      " Accuracy: 0.9630\n"
     ]
    }
   ],
   "source": [
    "from sklearn.ensemble import RandomForestClassifier\n",
    "\n",
    "rf_model_balanced = RandomForestClassifier(n_estimators=100, random_state=42)\n",
    "rf_model_balanced.fit(X_train_balanced, y_train_balanced)\n",
    "\n",
    "# Predict on full test set\n",
    "y_pred_balanced = rf_model_balanced.predict(X_test)\n",
    "\n",
    "# Evaluate\n",
    "from sklearn.metrics import classification_report, confusion_matrix, accuracy_score\n",
    "\n",
    "print(\" Confusion Matrix:\\n\", confusion_matrix(y_test, y_pred_balanced))\n",
    "print(\"\\n Classification Report:\\n\", classification_report(y_test, y_pred_balanced))\n",
    "print(f\" Accuracy: {accuracy_score(y_test, y_pred_balanced):.4f}\")\n"
   ]
  },
  {
   "cell_type": "code",
   "execution_count": 14,
   "id": "7106b22a",
   "metadata": {},
   "outputs": [
    {
     "data": {
      "image/png": "[encoded data removed]",
      "text/plain": [
       "<Figure size 1000x600 with 1 Axes>"
      ]
     },
     "metadata": {},
     "output_type": "display_data"
    },
    {
     "name": "stdout",
     "output_type": "stream",
     "text": [
      " Ranked Feature Importances:\n",
      "          Feature  Importance\n",
      "2   oldbalanceOrg    0.294713\n",
      "3  newbalanceOrig    0.195152\n",
      "1          amount    0.165711\n",
      "8   type_TRANSFER    0.086760\n",
      "0            step    0.071199\n",
      "5  newbalanceDest    0.070535\n",
      "4  oldbalanceDest    0.064877\n",
      "7   type_CASH_OUT    0.049565\n",
      "6  isFlaggedFraud    0.001488\n"
     ]
    }
   ],
   "source": [
    "import matplotlib.pyplot as plt\n",
    "\n",
    "# Get feature importances from the trained model\n",
    "importances = rf_model_balanced.feature_importances_\n",
    "feature_names = X_train_balanced.columns\n",
    "\n",
    "# Create a sorted DataFrame for display\n",
    "feat_imp_df = pd.DataFrame({\n",
    "    'Feature': feature_names,\n",
    "    'Importance': importances\n",
    "}).sort_values(by='Importance', ascending=False)\n",
    "\n",
    "# Plot the top features\n",
    "plt.figure(figsize=(10, 6))\n",
    "plt.barh(feat_imp_df['Feature'], feat_imp_df['Importance'], color='skyblue')\n",
    "plt.gca().invert_yaxis()\n",
    "plt.title(' Top Features for Fraud Detection (Random Forest)')\n",
    "plt.xlabel('Feature Importance Score')\n",
    "plt.tight_layout()\n",
    "plt.show()\n",
    "\n",
    "# Print ranked features\n",
    "print(\" Ranked Feature Importances:\")\n",
    "print(feat_imp_df)\n"
   ]
  },
  {
   "cell_type": "code",
   "execution_count": 15,
   "id": "b191feec",
   "metadata": {},
   "outputs": [],
   "source": [
    "fraud_df = X_train[y_train == 1]\n",
    "non_fraud_df = X_train[y_train == 0]\n",
    "\n",
    "# Match majority class to fraud count\n",
    "non_fraud_sample = non_fraud_df.sample(n=len(fraud_df), random_state=42)\n",
    "\n",
    "# Combine into balanced training set\n",
    "X_train_balanced = pd.concat([fraud_df, non_fraud_sample])\n",
    "y_train_balanced = pd.Series([1]*len(fraud_df) + [0]*len(fraud_df))"
   ]
  },
  {
   "cell_type": "code",
   "execution_count": 16,
   "id": "b7acf3a7",
   "metadata": {},
   "outputs": [
    {
     "name": "stdout",
     "output_type": "stream",
     "text": [
      " Random Forest model trained on balanced data.\n"
     ]
    }
   ],
   "source": [
    "from sklearn.ensemble import RandomForestClassifier\n",
    "\n",
    "#  Train model on balanced data\n",
    "rf_model = RandomForestClassifier(\n",
    "    n_estimators=100,\n",
    "    random_state=42,\n",
    "    class_weight='balanced',  # optional with SMOTE/undersampling\n",
    "    max_depth=None\n",
    ")\n",
    "\n",
    "rf_model.fit(X_train_balanced, y_train_balanced)\n",
    "\n",
    "print(\" Random Forest model trained on balanced data.\")\n"
   ]
  },
  {
   "cell_type": "code",
   "execution_count": 18,
   "id": "1e84b369",
   "metadata": {},
   "outputs": [
    {
     "name": "stdout",
     "output_type": "stream",
     "text": [
      " Model trained on unbalanced data.\n"
     ]
    }
   ],
   "source": [
    "from sklearn.ensemble import RandomForestClassifier\n",
    "\n",
    "# Initialize the model\n",
    "model = RandomForestClassifier(random_state=42)\n",
    "\n",
    "# Train on original (unbalanced) training data\n",
    "model.fit(X_train, y_train)\n",
    "\n",
    "print(\" Model trained on unbalanced data.\")\n"
   ]
  },
  {
   "cell_type": "code",
   "execution_count": 19,
   "metadata": {},
   "outputs": [
    {
     "name": "stdout",
     "output_type": "stream",
     "text": [
      " Sample Predictions on X_test:\n",
      "[0 0 0 0 0 0 0 0 0 0]\n"
     ]
    }
   ],
   "source": [
    "# Make predictions on the test set\n",
    "y_pred = model.predict(X_test)\n",
    "\n",
    "# Show first 10 predictions\n",
    "print(\" Sample Predictions on X_test:\")\n",
    "print(y_pred[:10])\n"
   ]
  },
  {
   "cell_type": "code",
   "execution_count": 22,
   "id": "0e67629a",
   "metadata": {},
   "outputs": [
    {
     "name": "stdout",
     "output_type": "stream",
     "text": [
      " Confusion Matrix:\n",
      "[[29958     0]\n",
      " [    9    33]]\n",
      "\n",
      " Classification Report:\n",
      "              precision    recall  f1-score   support\n",
      "\n",
      "           0       1.00      1.00      1.00     29958\n",
      "           1       1.00      0.79      0.88        42\n",
      "\n",
      "    accuracy                           1.00     30000\n",
      "   macro avg       1.00      0.89      0.94     30000\n",
      "weighted avg       1.00      1.00      1.00     30000\n",
      "\n",
      " Accuracy: 0.9997\n"
     ]
    }
   ],
   "source": [
    "from sklearn.metrics import classification_report, confusion_matrix, accuracy_score\n",
    "\n",
    "print(\" Confusion Matrix:\")\n",
    "print(confusion_matrix(y_test, y_pred))\n",
    "\n",
    "print(\"\\n Classification Report:\")\n",
    "print(classification_report(y_test, y_pred))\n",
    "\n",
    "print(f\" Accuracy: {accuracy_score(y_test, y_pred):.4f}\")\n"
   ]
  },
  {
   "cell_type": "code",
   "execution_count": 23,
   "id": "28a7136f",
   "metadata": {},
   "outputs": [
    {
     "name": "stdout",
     "output_type": "stream",
     "text": [
      " MODEL EVALUATION METRICS\n",
      "Accuracy       : 0.9997\n",
      "Precision (Fraud): 1.0000\n",
      "Recall    (Fraud): 0.7857\n",
      "F1-Score        : 0.8800\n",
      "\n",
      " Confusion Matrix:\n",
      "[[29958     0]\n",
      " [    9    33]]\n",
      "\n",
      " Classification Report:\n",
      "              precision    recall  f1-score   support\n",
      "\n",
      "           0       1.00      1.00      1.00     29958\n",
      "           1       1.00      0.79      0.88        42\n",
      "\n",
      "    accuracy                           1.00     30000\n",
      "   macro avg       1.00      0.89      0.94     30000\n",
      "weighted avg       1.00      1.00      1.00     30000\n",
      "\n"
     ]
    }
   ],
   "source": [
    "from sklearn.metrics import (\n",
    "    accuracy_score,\n",
    "    precision_score,\n",
    "    recall_score,\n",
    "    f1_score,\n",
    "    confusion_matrix,\n",
    "    classification_report\n",
    ")\n",
    "\n",
    "# Evaluate predictions\n",
    "acc = accuracy_score(y_test, y_pred)\n",
    "prec = precision_score(y_test, y_pred)\n",
    "rec = recall_score(y_test, y_pred)\n",
    "f1 = f1_score(y_test, y_pred)\n",
    "cm = confusion_matrix(y_test, y_pred)\n",
    "report = classification_report(y_test, y_pred)\n",
    "\n",
    "# Print metrics\n",
    "print(\" MODEL EVALUATION METRICS\")\n",
    "print(f\"Accuracy       : {acc:.4f}\")\n",
    "print(f\"Precision (Fraud): {prec:.4f}\")\n",
    "print(f\"Recall    (Fraud): {rec:.4f}\")\n",
    "print(f\"F1-Score        : {f1:.4f}\")\n",
    "print(\"\\n Confusion Matrix:\")\n",
    "print(cm)\n",
    "\n",
    "print(\"\\n Classification Report:\")\n",
    "print(report)\n"
   ]
  },
  {
   "cell_type": "markdown",
   "id": "8af1aa53",
   "metadata": {},
   "source": [
    "###  Interpretation of Evaluation Metrics\n",
    "\n",
    "- **High Precision (1.00)**: The model has **no false positives** — every flagged fraud was truly fraudulent. This avoids wrongly flagging genuine users.\n",
    "\n",
    "- **High Recall (0.79)**: The model catches about **79% of actual frauds**, meaning some still slip through — but performance is quite good given the imbalance.\n",
    "\n",
    "- **F1-Score (0.88)**: Combines precision and recall into a single score. A high F1 indicates the model is both cautious and effective.\n",
    "\n",
    "This confirms that the model is highly trustworthy in real-world deployment, with minimal risk to user experience and strong fraud-catching capability.\n"
   ]
  },
  {
   "cell_type": "markdown",
   "id": "b9735860",
   "metadata": {},
   "source": [
    "## 📌 Insights & Key Findings\n",
    "\n",
    "After cleaning, exploring, and modeling the data, the following **fraud patterns** and **risk indicators** were discovered. These insights are backed by both EDA and feature importance analysis.\n",
    "\n",
    "---\n",
    "\n",
    "###  1. Transaction Types Prone to Fraud\n",
    "\n",
    "```text\n",
    "Fraud Counts by Transaction Type:\n",
    "- CASH_OUT → 4,116\n",
    "- TRANSFER → 4,097\n",
    "- PAYMENT, DEBIT, CASH_IN → 0 frauds\n",
    "\n",
    "****\n",
    "Explanation:\n",
    "Fraudsters exclusively use TRANSFER and CASH_OUT transactions to move or withdraw stolen funds.\n",
    " Other transaction types show no fraud at all — helpful for business rule filters.\n",
    "\n",
    "2. High Amounts Are Fraud-Heavy\n",
    "Outliers in 'amount' column: 338,078 transactions\n",
    "Outlier percentage: 5.31%\n",
    "****\n",
    "Explanation:\n",
    "Fraud transactions often involve unusually large amounts. Many of these lie beyond the interquartile range (IQR), showing that high-value transactions are risk-prone.\n",
    " Large amounts should be flagged or verified.\n",
    "\n",
    " 3. Sender’s Account Is Drained in Fraud\n",
    "text\n",
    "Copy\n",
    "Edit\n",
    "Fraud rows where newbalanceOrig = 0: 8053 out of 8213 (≈ 98.05%)\n",
    "****\n",
    "Explanation:\n",
    "Fraud often wipes the sender's account — i.e., the transaction completely empties the victim’s balance.\n",
    "This is a strong, actionable fraud signal.\n",
    "\n",
    " 4. Receiver Balance Doesn’t Increase Normally\n",
    "text\n",
    "Copy\n",
    "Edit\n",
    "Fraud rows with abnormal dest. balance increase: 632 / 8213 (≈ 7.7%)\n",
    "****\n",
    "Explanation:\n",
    "In ~7.7% of fraud cases, the destination account doesn't properly receive the money — likely indicating it’s a fake or intermediate account used to bypass tracking.\n",
    "\n",
    "5. Class Imbalance Is Severe\n",
    "text\n",
    "Copy\n",
    "Edit\n",
    "Fraud cases: 8213 out of 6,362,620 → 0.13%\n",
    "****\n",
    "Explanation:\n",
    "Fraudulent transactions are extremely rare — making fraud detection a needle-in-a-haystack problem.\n",
    "Requires special resampling techniques like SMOTE or undersampling for model training.\n",
    "\n",
    "6. Top Features from Random Forest\n",
    "text\n",
    "Copy\n",
    "Edit\n",
    "Feature Importance Ranking:\n",
    "1. oldbalanceOrg        → 29.4%\n",
    "2. newbalanceOrig       → 19.5%\n",
    "3. amount               → 16.6%\n",
    "4. type_TRANSFER        →  8.6%\n",
    "5. step                 →  7.1%\n",
    "*****\n",
    "Explanation:\n",
    "Balance columns are key: fraud often drains funds (oldbalanceOrg > 0, newbalanceOrig = 0)\n",
    "Transaction type matters: TRANSFER is a strong indicator\n",
    "Amount also plays a big role — especially when large\n",
    "\n",
    "These features are business-logical and explainable — great for audit-ready fraud models.\n",
    "\n",
    "Business Interpretation Summary\n",
    "Insight\tWhy It Matters\n",
    "Fraud uses TRANSFER and CASH_OUT\t            Other types can be excluded from ML prediction\n",
    "High amount is common in fraud\t                Useful for setting amount-based fraud thresholds\n",
    "newbalanceOrig = 0 in 98% of frauds\t            Strong logic-based rule to flag potential frauds\n",
    "Class imbalance is severe\t                    Needs SMOTE/undersampling to avoid model bias\n",
    "Feature importance is explainable\t            Helps in building trust with stakeholders/regulators\n",
    "\n",
    "These insights were not only used for EDA, but also to improve the model and help the business design real-time prevention strategies.\n"
   ]
  },
  {
   "cell_type": "markdown",
   "id": "189b78a8",
   "metadata": {},
   "source": []
  },
  {
   "cell_type": "markdown",
   "id": "913c2956",
   "metadata": {},
   "source": [
    "##  Expectation #7: Preventive Measures\n",
    "\n",
    "Based on model outputs and business logic analysis, the following preventive strategies are recommended:\n",
    "\n",
    "---\n",
    "\n",
    "###  1. Block Instant High-Value Transfers\n",
    "\n",
    "**Logic**: Many frauds involve large amounts (identified as outliers).\n",
    "\n",
    "**Prevention Rule**:\n",
    "- Block or hold **TRANSFER** or **CASH_OUT** transactions over a threshold (e.g., ₹50,000)\n",
    "- Require additional OTP or biometric verification for high-value transactions\n",
    "\n",
    "---\n",
    "\n",
    "###  2. Flag Zero-Balance Outcomes\n",
    "\n",
    "**Logic**: 98% of fraud transactions result in `newbalanceOrig = 0`.\n",
    "\n",
    "**Prevention Rule**:\n",
    "- Flag any user account whose balance is reduced to ₹0 **after a single transaction**\n",
    "- Temporarily restrict account until verified\n",
    "\n",
    "---\n",
    "\n",
    "###  3. Monitor New Destination Accounts\n",
    "\n",
    "**Logic**: Some destination accounts do not reflect received funds (abnormal pattern).\n",
    "\n",
    "**Prevention Rule**:\n",
    "- Flag transfers to accounts with:\n",
    "  - No prior transaction history\n",
    "  - `newbalanceDest = 0` after receiving money\n",
    "\n",
    "---\n",
    "\n",
    "###  4. Set Velocity Rules\n",
    "\n",
    "**Logic**: Fraud often involves rapid multiple transactions.\n",
    "\n",
    "**Prevention Rule**:\n",
    "- Monitor users making **more than 3 transfers within 5 minutes**\n",
    "- Auto-flag for manual review or temporary hold\n",
    "\n",
    "---\n",
    "\n",
    "###  5. Watch Accounts That Trigger Rules Often\n",
    "\n",
    "**Logic**: Repeat offenders often use mule accounts or dummy transactions.\n",
    "\n",
    "**Prevention Rule**:\n",
    "- Create a **reputation score** for users based on:\n",
    "  - Frequency of rule violations\n",
    "  - Sudden account activity spikes\n",
    "- Gradually restrict access or escalate KYC\n",
    "\n",
    "---\n",
    "\n",
    "###  Summary of Preventive Logic\n",
    "\n",
    "| Rule | Trigger | Action |\n",
    "|------|---------|--------|\n",
    "| Block large transfer | `amount > ₹50,000` | Delay + re-authenticate |\n",
    "| Zero-balance origin | `newbalanceOrig = 0` | Flag and freeze |\n",
    "| Abnormal receiver | `newbalanceDest = 0` | Audit receiver |\n",
    "| Rapid transfers | `> 3 transfers in 5 min` | Rate-limit or block |\n",
    "| Repeated rule violator | Any | Escalate or freeze |\n",
    "\n",
    "These can be turned into real-time monitoring rules or pre-ML flags to **support or augment model predictions**.\n",
    "\n",
    "##  Expectation #8: Monitoring Effectiveness\n",
    "\n",
    "To ensure the fraud detection model remains reliable and relevant over time, the following **monitoring strategies** are recommended:\n",
    "\n",
    "---\n",
    "\n",
    "###  1. Track Recall Over Time\n",
    "\n",
    "**Why**: Recall tells us how many actual frauds the model is catching. If recall drops, the model is **missing more frauds**.\n",
    "\n",
    "**How**:\n",
    "- Calculate `recall_score` **weekly or monthly**\n",
    "- Set threshold alerts if recall drops below 0.7\n",
    "- Investigate reasons (new fraud patterns, data drift, etc.)\n",
    "\n",
    "---\n",
    "\n",
    "###  2. Review False Positives Weekly\n",
    "\n",
    "**Why**: A high false positive rate leads to frustrated customers and business loss.\n",
    "\n",
    "**How**:\n",
    "- Track the number of **non-fraud transactions flagged as fraud**\n",
    "- Review **feedback from customer service** or flagged user complaints\n",
    "- Tune thresholds or retrain if false positives increase\n",
    "\n",
    "---\n",
    "\n",
    "###  3. Measure Financial Impact\n",
    "\n",
    "**Why**: Ultimately, the goal is to **save money** by stopping fraud without disrupting real users.\n",
    "\n",
    "**How**:\n",
    "- Calculate:\n",
    "  -  **Amount saved from detected frauds**\n",
    "  -  **Cost of missed frauds** (false negatives)\n",
    "  -  **Cost of wrongly blocked users** (false positives)\n",
    "- Use these metrics to optimize for **business ROI**\n",
    "\n",
    "---\n",
    "\n",
    "###  4. Retrain and Update Model Regularly\n",
    "\n",
    "**Why**: Fraud patterns evolve over time (data drift).\n",
    "\n",
    "**How**:\n",
    "- Schedule retraining every **3–6 months**\n",
    "- Continuously collect **new labeled data**\n",
    "- Use A/B testing to compare model versions\n",
    "\n",
    "---\n",
    "\n",
    "###  Summary\n",
    "\n",
    "| Metric                | Frequency | Why It Matters                            |\n",
    "|------------------------|-----------|--------------------------------------------|\n",
    "| Recall                 | Weekly    | Are we still catching fraud?              |\n",
    "| False Positives        | Weekly    | Are we annoying real users?               |\n",
    "| Financial Impact       | Monthly   | Is the model saving or losing money?      |\n",
    "| Retraining Need        | Quarterly | Does model still reflect current fraud?   |\n",
    "\n",
    " Ongoing monitoring ensures the fraud detection model stays effective, trustworthy, and profitable.\n"
   ]
  }
 ],
 "metadata": {
  "kernelspec": {
   "display_name": "Python 3",
   "language": "python",
   "name": "python3"
  },
  "language_info": {
   "codemirror_mode": {
    "name": "ipython",
    "version": 3
   },
   "file_extension": ".py",
   "mimetype": "text/x-python",
   "name": "python",
   "nbconvert_exporter": "python",
   "pygments_lexer": "ipython3",
   "version": "3.12.1"
  }
 },
 "nbformat": 4,
 "nbformat_minor": 5
}
